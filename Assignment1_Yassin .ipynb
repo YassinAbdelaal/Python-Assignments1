{
 "cells": [
  {
   "cell_type": "markdown",
   "id": "b62de2bb",
   "metadata": {},
   "source": [
    "# Task1 \n",
    "Create a variable named x, and assign it a value of 20."
   ]
  },
  {
   "cell_type": "code",
   "execution_count": 1,
   "id": "919cbd1b",
   "metadata": {},
   "outputs": [],
   "source": [
    "x=20"
   ]
  },
  {
   "cell_type": "markdown",
   "id": "b29f5dda",
   "metadata": {},
   "source": [
    "# Task2\n",
    "Create two variables named x and y, and assign them with values 10 and 20 respectively."
   ]
  },
  {
   "cell_type": "code",
   "execution_count": 2,
   "id": "43ada676",
   "metadata": {},
   "outputs": [],
   "source": [
    "x=10\n",
    "y=20"
   ]
  },
  {
   "cell_type": "markdown",
   "id": "62c0df0d",
   "metadata": {},
   "source": [
    "# Task3 \n",
    "Create a variable named x which is assigned a value of 'apple'. Print the variable x to standard output."
   ]
  },
  {
   "cell_type": "code",
   "execution_count": 3,
   "id": "07d23a3b",
   "metadata": {},
   "outputs": [
    {
     "name": "stdout",
     "output_type": "stream",
     "text": [
      "apple\n"
     ]
    }
   ],
   "source": [
    "x=\"apple\"\n",
    "print(x)"
   ]
  },
  {
   "cell_type": "markdown",
   "id": "ab1228d6",
   "metadata": {},
   "source": [
    "# Task4\n",
    "Assign variable x with 10, and variable y with 20. Find their sum and assign the result to a variable z. Then print the variable z."
   ]
  },
  {
   "cell_type": "code",
   "execution_count": 6,
   "id": "f3733960",
   "metadata": {},
   "outputs": [
    {
     "name": "stdout",
     "output_type": "stream",
     "text": [
      "30\n"
     ]
    }
   ],
   "source": [
    "x=10\n",
    "y=20\n",
    "z=10+20\n",
    "print(z)"
   ]
  },
  {
   "cell_type": "markdown",
   "id": "4f3972af",
   "metadata": {},
   "source": [
    "# Task5\n",
    "Initialize all the three variables x, y, and z with the same value of 'apple' in a single statement."
   ]
  },
  {
   "cell_type": "code",
   "execution_count": 7,
   "id": "ee040b87",
   "metadata": {},
   "outputs": [],
   "source": [
    "x=y=z=\"apple\""
   ]
  },
  {
   "cell_type": "markdown",
   "id": "c37809e9",
   "metadata": {},
   "source": [
    "# Task6\n",
    "What is the built-in function that returns the type of the given value or variable (x or y or z)."
   ]
  },
  {
   "cell_type": "code",
   "execution_count": 8,
   "id": "2f4b820a",
   "metadata": {},
   "outputs": [
    {
     "data": {
      "text/plain": [
       "str"
      ]
     },
     "execution_count": 8,
     "metadata": {},
     "output_type": "execute_result"
    }
   ],
   "source": [
    "type(x)"
   ]
  },
  {
   "cell_type": "markdown",
   "id": "b5a37587",
   "metadata": {},
   "source": [
    "# Task7\n",
    "Which built-in function is used to read input from user?"
   ]
  },
  {
   "cell_type": "code",
   "execution_count": 10,
   "id": "98badfbb",
   "metadata": {},
   "outputs": [
    {
     "name": "stdin",
     "output_type": "stream",
     "text": [
      " 5\n"
     ]
    }
   ],
   "source": [
    "x=input(\"\")"
   ]
  },
  {
   "cell_type": "markdown",
   "id": "bf399396",
   "metadata": {},
   "source": [
    "# Task8\n",
    "Reverse a given string \n",
    "str1 = \"Amit Learning\""
   ]
  },
  {
   "cell_type": "code",
   "execution_count": 11,
   "id": "887d91bf",
   "metadata": {},
   "outputs": [],
   "source": [
    "str1= \"Amit Learning\""
   ]
  },
  {
   "cell_type": "code",
   "execution_count": 12,
   "id": "e3008b5d",
   "metadata": {},
   "outputs": [
    {
     "name": "stdout",
     "output_type": "stream",
     "text": [
      "gninraeL timA\n"
     ]
    }
   ],
   "source": [
    "str1=str1[::-1]\n",
    "print(str1)"
   ]
  },
  {
   "cell_type": "markdown",
   "id": "5e42437a",
   "metadata": {},
   "source": [
    "# Task9\n",
    "split a given string\n",
    "str2 = \"Dema-is-a-data-scientist\"\n",
    "\n",
    "output >> ['Dema', 'is', 'a', 'data', 'scientist']"
   ]
  },
  {
   "cell_type": "code",
   "execution_count": 13,
   "id": "08f0b533",
   "metadata": {},
   "outputs": [
    {
     "name": "stdout",
     "output_type": "stream",
     "text": [
      "['Dema', 'is', 'a', 'data', 'scientist']\n"
     ]
    }
   ],
   "source": [
    "str2= \"Dema-is-a-data-scientist\"\n",
    "sliced_String=str2.split(\"-\")\n",
    "print(sliced_String)"
   ]
  },
  {
   "cell_type": "markdown",
   "id": "82363726",
   "metadata": {},
   "source": [
    "# Task10\n",
    "Join this list['Dema', 'is', 'a', 'data', 'scientist'] \n",
    "\n",
    "output >> 'Dema is a data scientist'"
   ]
  },
  {
   "cell_type": "code",
   "execution_count": 14,
   "id": "e4026949",
   "metadata": {},
   "outputs": [
    {
     "name": "stdout",
     "output_type": "stream",
     "text": [
      "Dema is a data scientist\n"
     ]
    }
   ],
   "source": [
    "lst= ['Dema', 'is', 'a', 'data', 'scientist']\n",
    "joinedlist=\" \".join(lst)\n",
    "print(joinedlist)"
   ]
  },
  {
   "cell_type": "markdown",
   "id": "ac5c1dd8",
   "metadata": {},
   "source": [
    "# Task11\n",
    "Get the characters:\n",
    "\n",
    "From: \"o\" in \"World!\" \n",
    "\n",
    "To, but not included: \"d\" in \"World!\"\n",
    "\n",
    "str1 = \"Hello, World!\""
   ]
  },
  {
   "cell_type": "code",
   "execution_count": 15,
   "id": "acab7e4d",
   "metadata": {},
   "outputs": [
    {
     "data": {
      "text/plain": [
       "'orl'"
      ]
     },
     "execution_count": 15,
     "metadata": {},
     "output_type": "execute_result"
    }
   ],
   "source": [
    "str1 = \"Hello, World!\"\n",
    "str1[8:11]"
   ]
  },
  {
   "cell_type": "markdown",
   "id": "b5763b76",
   "metadata": {},
   "source": [
    "# Task12\n",
    "Check if \"free\" is present in the following text:\n",
    "\n",
    "txt = \"The best things in life are free!\""
   ]
  },
  {
   "cell_type": "code",
   "execution_count": 16,
   "id": "d0ba085c",
   "metadata": {},
   "outputs": [
    {
     "name": "stdout",
     "output_type": "stream",
     "text": [
      "Present\n"
     ]
    }
   ],
   "source": [
    "txt = \"The best things in life are free!\"\n",
    "x=\"free\"\n",
    "if x in txt:\n",
    "    print(\"Present\")\n",
    "else:\n",
    "    print(\"missing\")"
   ]
  },
  {
   "cell_type": "markdown",
   "id": "d0b26e9b",
   "metadata": {},
   "source": [
    "# Task13\n",
    "#removes any whitespace from the beginning or the end\n",
    "\n",
    "s = \" Hello, World! \""
   ]
  },
  {
   "cell_type": "code",
   "execution_count": 17,
   "id": "88e85a9a",
   "metadata": {},
   "outputs": [
    {
     "data": {
      "text/plain": [
       "'Hello, World!'"
      ]
     },
     "execution_count": 17,
     "metadata": {},
     "output_type": "execute_result"
    }
   ],
   "source": [
    "s = \" Hello, World! \"\n",
    "s.strip()"
   ]
  },
  {
   "cell_type": "markdown",
   "id": "832668db",
   "metadata": {},
   "source": [
    "# Task14\n",
    "Replace the character H with J.\n",
    "\n",
    "\n",
    "txt = \"Hello World\""
   ]
  },
  {
   "cell_type": "code",
   "execution_count": 18,
   "id": "50252148",
   "metadata": {},
   "outputs": [
    {
     "name": "stdout",
     "output_type": "stream",
     "text": [
      "Jello World\n"
     ]
    }
   ],
   "source": [
    "\n",
    "\n",
    "txt = \"Hello World\"\n",
    "txt2=txt.replace(\"H\",\"J\")\n",
    "print(txt2)"
   ]
  }
 ],
 "metadata": {
  "kernelspec": {
   "display_name": "Python 3 (ipykernel)",
   "language": "python",
   "name": "python3"
  },
  "language_info": {
   "codemirror_mode": {
    "name": "ipython",
    "version": 3
   },
   "file_extension": ".py",
   "mimetype": "text/x-python",
   "name": "python",
   "nbconvert_exporter": "python",
   "pygments_lexer": "ipython3",
   "version": "3.11.7"
  }
 },
 "nbformat": 4,
 "nbformat_minor": 5
}
